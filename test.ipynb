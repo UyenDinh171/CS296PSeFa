{
 "cells": [
  {
   "cell_type": "code",
   "execution_count": 2,
   "id": "91ae5987",
   "metadata": {},
   "outputs": [],
   "source": [
    "import torch\n",
    "checkpoint_path = 'checkpoints/stylegan_ffhq256.pth'"
   ]
  },
  {
   "cell_type": "code",
   "execution_count": 4,
   "id": "a31b94a8",
   "metadata": {
    "scrolled": false
   },
   "outputs": [],
   "source": [
    "model = torch.load(checkpoint_path, map_location='cpu')"
   ]
  },
  {
   "cell_type": "code",
   "execution_count": 10,
   "id": "7d96a3d8",
   "metadata": {},
   "outputs": [
    {
     "data": {
      "text/plain": [
       "odict_keys(['mapping.dense0.weight', 'mapping.dense0.bias', 'mapping.dense1.weight', 'mapping.dense1.bias', 'mapping.dense2.weight', 'mapping.dense2.bias', 'mapping.dense3.weight', 'mapping.dense3.bias', 'mapping.dense4.weight', 'mapping.dense4.bias', 'mapping.dense5.weight', 'mapping.dense5.bias', 'mapping.dense6.weight', 'mapping.dense6.bias', 'mapping.dense7.weight', 'mapping.dense7.bias', 'truncation.w_avg', 'synthesis.lod', 'synthesis.layer0.bias', 'synthesis.layer0.const', 'synthesis.layer0.apply_noise.weight', 'synthesis.layer0.apply_noise.noise', 'synthesis.layer0.style.weight', 'synthesis.layer0.style.bias', 'synthesis.layer1.bias', 'synthesis.layer1.weight', 'synthesis.layer1.apply_noise.weight', 'synthesis.layer1.apply_noise.noise', 'synthesis.layer1.style.weight', 'synthesis.layer1.style.bias', 'synthesis.output0.bias', 'synthesis.output0.weight', 'synthesis.layer2.bias', 'synthesis.layer2.weight', 'synthesis.layer2.apply_noise.weight', 'synthesis.layer2.apply_noise.noise', 'synthesis.layer2.style.weight', 'synthesis.layer2.style.bias', 'synthesis.layer2.blur.kernel', 'synthesis.layer3.bias', 'synthesis.layer3.weight', 'synthesis.layer3.apply_noise.weight', 'synthesis.layer3.apply_noise.noise', 'synthesis.layer3.style.weight', 'synthesis.layer3.style.bias', 'synthesis.output1.bias', 'synthesis.output1.weight', 'synthesis.layer4.bias', 'synthesis.layer4.weight', 'synthesis.layer4.apply_noise.weight', 'synthesis.layer4.apply_noise.noise', 'synthesis.layer4.style.weight', 'synthesis.layer4.style.bias', 'synthesis.layer4.blur.kernel', 'synthesis.layer5.bias', 'synthesis.layer5.weight', 'synthesis.layer5.apply_noise.weight', 'synthesis.layer5.apply_noise.noise', 'synthesis.layer5.style.weight', 'synthesis.layer5.style.bias', 'synthesis.output2.bias', 'synthesis.output2.weight', 'synthesis.layer6.bias', 'synthesis.layer6.weight', 'synthesis.layer6.apply_noise.weight', 'synthesis.layer6.apply_noise.noise', 'synthesis.layer6.style.weight', 'synthesis.layer6.style.bias', 'synthesis.layer6.blur.kernel', 'synthesis.layer7.bias', 'synthesis.layer7.weight', 'synthesis.layer7.apply_noise.weight', 'synthesis.layer7.apply_noise.noise', 'synthesis.layer7.style.weight', 'synthesis.layer7.style.bias', 'synthesis.output3.bias', 'synthesis.output3.weight', 'synthesis.layer8.bias', 'synthesis.layer8.weight', 'synthesis.layer8.apply_noise.weight', 'synthesis.layer8.apply_noise.noise', 'synthesis.layer8.style.weight', 'synthesis.layer8.style.bias', 'synthesis.layer8.blur.kernel', 'synthesis.layer9.bias', 'synthesis.layer9.weight', 'synthesis.layer9.apply_noise.weight', 'synthesis.layer9.apply_noise.noise', 'synthesis.layer9.style.weight', 'synthesis.layer9.style.bias', 'synthesis.output4.bias', 'synthesis.output4.weight', 'synthesis.layer10.bias', 'synthesis.layer10.weight', 'synthesis.layer10.apply_noise.weight', 'synthesis.layer10.apply_noise.noise', 'synthesis.layer10.style.weight', 'synthesis.layer10.style.bias', 'synthesis.layer10.blur.kernel', 'synthesis.layer11.bias', 'synthesis.layer11.weight', 'synthesis.layer11.apply_noise.weight', 'synthesis.layer11.apply_noise.noise', 'synthesis.layer11.style.weight', 'synthesis.layer11.style.bias', 'synthesis.output5.bias', 'synthesis.output5.weight', 'synthesis.layer12.bias', 'synthesis.layer12.weight', 'synthesis.layer12.apply_noise.weight', 'synthesis.layer12.apply_noise.noise', 'synthesis.layer12.style.weight', 'synthesis.layer12.style.bias', 'synthesis.layer12.blur.kernel', 'synthesis.layer13.bias', 'synthesis.layer13.weight', 'synthesis.layer13.apply_noise.weight', 'synthesis.layer13.apply_noise.noise', 'synthesis.layer13.style.weight', 'synthesis.layer13.style.bias', 'synthesis.output6.bias', 'synthesis.output6.weight'])"
      ]
     },
     "execution_count": 10,
     "metadata": {},
     "output_type": "execute_result"
    }
   ],
   "source": [
    "model['generator'].keys()"
   ]
  },
  {
   "cell_type": "code",
   "execution_count": 13,
   "id": "b4d73088",
   "metadata": {},
   "outputs": [],
   "source": [
    "checkpoint_path2 = 'checkpoints/stylegan_ffhq256_generator.pth'"
   ]
  },
  {
   "cell_type": "code",
   "execution_count": 14,
   "id": "d7080b3d",
   "metadata": {},
   "outputs": [
    {
     "data": {
      "text/plain": [
       "odict_keys(['mapping.dense0.fc.weight', 'mapping.dense0.wscale.bias', 'mapping.dense1.fc.weight', 'mapping.dense1.wscale.bias', 'mapping.dense2.fc.weight', 'mapping.dense2.wscale.bias', 'mapping.dense3.fc.weight', 'mapping.dense3.wscale.bias', 'mapping.dense4.fc.weight', 'mapping.dense4.wscale.bias', 'mapping.dense5.fc.weight', 'mapping.dense5.wscale.bias', 'mapping.dense6.fc.weight', 'mapping.dense6.wscale.bias', 'mapping.dense7.fc.weight', 'mapping.dense7.wscale.bias', 'truncation.w_avg', 'synthesis.lod', 'synthesis.layer0.const', 'synthesis.layer0.epilogue.bias', 'synthesis.layer0.epilogue.apply_noise.weight', 'synthesis.layer0.epilogue.apply_noise.noise', 'synthesis.layer0.epilogue.style_mod.dense.fc.weight', 'synthesis.layer0.epilogue.style_mod.dense.wscale.bias', 'synthesis.layer1.conv.weight', 'synthesis.layer1.epilogue.bias', 'synthesis.layer1.epilogue.apply_noise.weight', 'synthesis.layer1.epilogue.apply_noise.noise', 'synthesis.layer1.epilogue.style_mod.dense.fc.weight', 'synthesis.layer1.epilogue.style_mod.dense.wscale.bias', 'synthesis.output0.bias', 'synthesis.output0.conv.weight', 'synthesis.layer2.conv.weight', 'synthesis.layer2.blur.kernel', 'synthesis.layer2.epilogue.bias', 'synthesis.layer2.epilogue.apply_noise.weight', 'synthesis.layer2.epilogue.apply_noise.noise', 'synthesis.layer2.epilogue.style_mod.dense.fc.weight', 'synthesis.layer2.epilogue.style_mod.dense.wscale.bias', 'synthesis.layer3.conv.weight', 'synthesis.layer3.epilogue.bias', 'synthesis.layer3.epilogue.apply_noise.weight', 'synthesis.layer3.epilogue.apply_noise.noise', 'synthesis.layer3.epilogue.style_mod.dense.fc.weight', 'synthesis.layer3.epilogue.style_mod.dense.wscale.bias', 'synthesis.output1.bias', 'synthesis.output1.conv.weight', 'synthesis.layer4.conv.weight', 'synthesis.layer4.blur.kernel', 'synthesis.layer4.epilogue.bias', 'synthesis.layer4.epilogue.apply_noise.weight', 'synthesis.layer4.epilogue.apply_noise.noise', 'synthesis.layer4.epilogue.style_mod.dense.fc.weight', 'synthesis.layer4.epilogue.style_mod.dense.wscale.bias', 'synthesis.layer5.conv.weight', 'synthesis.layer5.epilogue.bias', 'synthesis.layer5.epilogue.apply_noise.weight', 'synthesis.layer5.epilogue.apply_noise.noise', 'synthesis.layer5.epilogue.style_mod.dense.fc.weight', 'synthesis.layer5.epilogue.style_mod.dense.wscale.bias', 'synthesis.output2.bias', 'synthesis.output2.conv.weight', 'synthesis.layer6.conv.weight', 'synthesis.layer6.blur.kernel', 'synthesis.layer6.epilogue.bias', 'synthesis.layer6.epilogue.apply_noise.weight', 'synthesis.layer6.epilogue.apply_noise.noise', 'synthesis.layer6.epilogue.style_mod.dense.fc.weight', 'synthesis.layer6.epilogue.style_mod.dense.wscale.bias', 'synthesis.layer7.conv.weight', 'synthesis.layer7.epilogue.bias', 'synthesis.layer7.epilogue.apply_noise.weight', 'synthesis.layer7.epilogue.apply_noise.noise', 'synthesis.layer7.epilogue.style_mod.dense.fc.weight', 'synthesis.layer7.epilogue.style_mod.dense.wscale.bias', 'synthesis.output3.bias', 'synthesis.output3.conv.weight', 'synthesis.layer8.conv.weight', 'synthesis.layer8.blur.kernel', 'synthesis.layer8.epilogue.bias', 'synthesis.layer8.epilogue.apply_noise.weight', 'synthesis.layer8.epilogue.apply_noise.noise', 'synthesis.layer8.epilogue.style_mod.dense.fc.weight', 'synthesis.layer8.epilogue.style_mod.dense.wscale.bias', 'synthesis.layer9.conv.weight', 'synthesis.layer9.epilogue.bias', 'synthesis.layer9.epilogue.apply_noise.weight', 'synthesis.layer9.epilogue.apply_noise.noise', 'synthesis.layer9.epilogue.style_mod.dense.fc.weight', 'synthesis.layer9.epilogue.style_mod.dense.wscale.bias', 'synthesis.output4.bias', 'synthesis.output4.conv.weight', 'synthesis.layer10.weight', 'synthesis.layer10.blur.kernel', 'synthesis.layer10.epilogue.bias', 'synthesis.layer10.epilogue.apply_noise.weight', 'synthesis.layer10.epilogue.apply_noise.noise', 'synthesis.layer10.epilogue.style_mod.dense.fc.weight', 'synthesis.layer10.epilogue.style_mod.dense.wscale.bias', 'synthesis.layer11.conv.weight', 'synthesis.layer11.epilogue.bias', 'synthesis.layer11.epilogue.apply_noise.weight', 'synthesis.layer11.epilogue.apply_noise.noise', 'synthesis.layer11.epilogue.style_mod.dense.fc.weight', 'synthesis.layer11.epilogue.style_mod.dense.wscale.bias', 'synthesis.output5.bias', 'synthesis.output5.conv.weight', 'synthesis.layer12.weight', 'synthesis.layer12.blur.kernel', 'synthesis.layer12.epilogue.bias', 'synthesis.layer12.epilogue.apply_noise.weight', 'synthesis.layer12.epilogue.apply_noise.noise', 'synthesis.layer12.epilogue.style_mod.dense.fc.weight', 'synthesis.layer12.epilogue.style_mod.dense.wscale.bias', 'synthesis.layer13.conv.weight', 'synthesis.layer13.epilogue.bias', 'synthesis.layer13.epilogue.apply_noise.weight', 'synthesis.layer13.epilogue.apply_noise.noise', 'synthesis.layer13.epilogue.style_mod.dense.fc.weight', 'synthesis.layer13.epilogue.style_mod.dense.wscale.bias', 'synthesis.output6.bias', 'synthesis.output6.conv.weight'])"
      ]
     },
     "execution_count": 14,
     "metadata": {},
     "output_type": "execute_result"
    }
   ],
   "source": [
    "model2 = torch.load(checkpoint_path2, map_location='cpu')\n",
    "model2.keys()"
   ]
  },
  {
   "cell_type": "code",
   "execution_count": 12,
   "id": "45adb45e",
   "metadata": {},
   "outputs": [
    {
     "data": {
      "text/plain": [
       "odict_keys(['block0.conv.weight', 'block0.bn.bn.weight', 'block0.bn.bn.bias', 'block0.bn.bn.running_mean', 'block0.bn.bn.running_var', 'block0.bn.bn.num_batches_tracked', 'block1.conv.weight', 'block1.bn.bn.weight', 'block1.bn.bn.bias', 'block1.bn.bn.running_mean', 'block1.bn.bn.running_var', 'block1.bn.bn.num_batches_tracked', 'block1.conv1.weight', 'block1.wscale1.bias', 'block1.bn1.bn.weight', 'block1.bn1.bn.bias', 'block1.bn1.bn.running_mean', 'block1.bn1.bn.running_var', 'block1.bn1.bn.num_batches_tracked', 'block1.conv2.weight', 'block1.wscale2.bias', 'block1.bn2.bn.weight', 'block1.bn2.bn.bias', 'block1.bn2.bn.running_mean', 'block1.bn2.bn.running_var', 'block1.bn2.bn.num_batches_tracked', 'block2.conv.weight', 'block2.bn.bn.weight', 'block2.bn.bn.bias', 'block2.bn.bn.running_mean', 'block2.bn.bn.running_var', 'block2.bn.bn.num_batches_tracked', 'block2.conv1.weight', 'block2.wscale1.bias', 'block2.bn1.bn.weight', 'block2.bn1.bn.bias', 'block2.bn1.bn.running_mean', 'block2.bn1.bn.running_var', 'block2.bn1.bn.num_batches_tracked', 'block2.conv2.weight', 'block2.wscale2.bias', 'block2.bn2.bn.weight', 'block2.bn2.bn.bias', 'block2.bn2.bn.running_mean', 'block2.bn2.bn.running_var', 'block2.bn2.bn.num_batches_tracked', 'block3.conv.weight', 'block3.bn.bn.weight', 'block3.bn.bn.bias', 'block3.bn.bn.running_mean', 'block3.bn.bn.running_var', 'block3.bn.bn.num_batches_tracked', 'block3.conv1.weight', 'block3.wscale1.bias', 'block3.bn1.bn.weight', 'block3.bn1.bn.bias', 'block3.bn1.bn.running_mean', 'block3.bn1.bn.running_var', 'block3.bn1.bn.num_batches_tracked', 'block3.conv2.weight', 'block3.wscale2.bias', 'block3.bn2.bn.weight', 'block3.bn2.bn.bias', 'block3.bn2.bn.running_mean', 'block3.bn2.bn.running_var', 'block3.bn2.bn.num_batches_tracked', 'block4.conv.weight', 'block4.bn.bn.weight', 'block4.bn.bn.bias', 'block4.bn.bn.running_mean', 'block4.bn.bn.running_var', 'block4.bn.bn.num_batches_tracked', 'block4.conv1.weight', 'block4.wscale1.bias', 'block4.bn1.bn.weight', 'block4.bn1.bn.bias', 'block4.bn1.bn.running_mean', 'block4.bn1.bn.running_var', 'block4.bn1.bn.num_batches_tracked', 'block4.conv2.weight', 'block4.wscale2.bias', 'block4.bn2.bn.weight', 'block4.bn2.bn.bias', 'block4.bn2.bn.running_mean', 'block4.bn2.bn.running_var', 'block4.bn2.bn.num_batches_tracked', 'block5.conv1.weight', 'block5.wscale1.bias', 'block5.bn1.bn.weight', 'block5.bn1.bn.bias', 'block5.bn1.bn.running_mean', 'block5.bn1.bn.running_var', 'block5.bn1.bn.num_batches_tracked', 'block5.conv2.weight', 'block5.wscale2.bias', 'block5.bn2.bn.weight', 'block5.bn2.bn.bias', 'block5.bn2.bn.running_mean', 'block5.bn2.bn.running_var', 'block5.bn2.bn.num_batches_tracked', 'block6.conv1.weight', 'block6.wscale1.bias', 'block6.bn1.bn.weight', 'block6.bn1.bn.bias', 'block6.bn1.bn.running_mean', 'block6.bn1.bn.running_var', 'block6.bn1.bn.num_batches_tracked', 'block6.conv2.weight', 'block6.wscale2.bias', 'block6.bn2.bn.weight', 'block6.bn2.bn.bias', 'block6.bn2.bn.running_mean', 'block6.bn2.bn.running_var', 'block6.bn2.bn.num_batches_tracked', 'block7.fc.weight', 'block7.bn.bn.weight', 'block7.bn.bn.bias', 'block7.bn.bn.running_mean', 'block7.bn.bn.running_var', 'block7.bn.bn.num_batches_tracked'])"
      ]
     },
     "execution_count": 12,
     "metadata": {},
     "output_type": "execute_result"
    }
   ],
   "source": [
    "checkpoint_path3 = 'checkpoints/styleganinv_ffhq256_encoder.pth'\n",
    "model3 = torch.load(checkpoint_path3, map_location='cpu')\n",
    "model3.keys()"
   ]
  },
  {
   "cell_type": "code",
   "execution_count": null,
   "id": "23945e2b",
   "metadata": {},
   "outputs": [],
   "source": []
  }
 ],
 "metadata": {
  "kernelspec": {
   "display_name": "Python 3",
   "language": "python",
   "name": "python3"
  },
  "language_info": {
   "codemirror_mode": {
    "name": "ipython",
    "version": 3
   },
   "file_extension": ".py",
   "mimetype": "text/x-python",
   "name": "python",
   "nbconvert_exporter": "python",
   "pygments_lexer": "ipython3",
   "version": "3.8.8"
  }
 },
 "nbformat": 4,
 "nbformat_minor": 5
}
